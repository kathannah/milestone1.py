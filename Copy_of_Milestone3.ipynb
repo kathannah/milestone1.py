{
  "nbformat": 4,
  "nbformat_minor": 0,
  "metadata": {
    "colab": {
      "name": "Copy of Milestone3.ipynb",
      "provenance": [],
      "collapsed_sections": [],
      "include_colab_link": true
    },
    "kernelspec": {
      "name": "python3",
      "display_name": "Python 3"
    },
    "language_info": {
      "name": "python"
    }
  },
  "cells": [
    {
      "cell_type": "markdown",
      "metadata": {
        "id": "view-in-github",
        "colab_type": "text"
      },
      "source": [
        "<a href=\"https://colab.research.google.com/github/kathannah/milestone1.py/blob/main/Copy_of_Milestone3.ipynb\" target=\"_parent\"><img src=\"https://colab.research.google.com/assets/colab-badge.svg\" alt=\"Open In Colab\"/></a>"
      ]
    },
    {
      "cell_type": "code",
      "execution_count": null,
      "metadata": {
        "id": "fNitYYneGYhT"
      },
      "outputs": [],
      "source": [
        "def load_file(dna_file):          #got some help with this function from Izzatul Hamizah Shahairul Izam\n",
        "  dna = open(dna_file,\"r\")\n",
        "\n",
        "  full_string = dna_file.read()       #read the whole text file\n",
        "  list_dna = full_string.split(\"\\n\")      #splitting each line into elemnt in list\n",
        "  dna.close()\n",
        "  return list_dna\n",
        "\n",
        "def get_edges(dna_dict):\n",
        "\n",
        "    vlist = list(dna_dict.values())                         #create a list of values from the dict\n",
        "    edges = []                                              #empty list to append results later on\n",
        "    for i in range (0, len(vlist)):                         #start by mapping all the values for their suffixes\n",
        "\n",
        "        for j in range (0, len(vlist)):                     #mapping all the values for their prefixes\n",
        "\n",
        "            if vlist[i][(len(vlist[i])-3):(len(vlist[i]))] == vlist[j][0:3] and i != j: \n",
        "            #Find matching edges, keeping in mind that it isn't the same dna string ( i != j) \n",
        "\n",
        "                K1 = get_key(dna_dict,vlist[i])             #get the keys using the previously defined function\n",
        "                K2 = get_key(dna_dict,vlist[j])\n",
        "                edges.append((K1,K2))                       #appending the matching edges to the result list \n",
        "                \n",
        "    return edges\n",
        "\n",
        "                \n",
        "def assemble_genome2( dna_list ):\n",
        "  fragment_dict = {}\n",
        "  for i in range(len(dna_list)):\n",
        "      fragment_dict[i] = dna_list[i]\n",
        "  edge_list = get_edges(fragment_dict)\n",
        "  codes = [] \n",
        "  for base in edge_list: \n",
        "      code_list = [base[0], base[1]]\n",
        "      i = 0\n",
        "      while i < len(dna_list) - 1: \n",
        "          for end in edge_list: \n",
        "              if code_list[-1] == end[0]:\n",
        "                  code_list.append(end[1]) \n",
        "          i+=1\n",
        "\n",
        "      if len(code_list) == len(dna_list): \n",
        "          codes.append(code_list)\n",
        "  unique_strings = []\n",
        "  for supercode in codes:\n",
        "      unique_string = dna_list[supercode[0]]\n",
        "      for key in supercode:\n",
        "          if key == supercode[0]:\n",
        "              continue\n",
        "          else:\n",
        "              unique_string+=(dna_list[key][8:])\n",
        "      unique_strings.append(unique_string) \n",
        "\n",
        "  return unique_strings[0] "
      ]
    },
    {
      "cell_type": "code",
      "source": [
        ""
      ],
      "metadata": {
        "id": "di3km-zQILEY"
      },
      "execution_count": null,
      "outputs": []
    },
    {
      "cell_type": "code",
      "source": [
        "\n"
      ],
      "metadata": {
        "id": "CJxDO3aus84q"
      },
      "execution_count": null,
      "outputs": []
    },
    {
      "cell_type": "code",
      "source": [
        ""
      ],
      "metadata": {
        "id": "_7qgZaN-upPl"
      },
      "execution_count": null,
      "outputs": []
    },
    {
      "cell_type": "code",
      "source": [
        ""
      ],
      "metadata": {
        "id": "nR1FlLcCz9NH"
      },
      "execution_count": null,
      "outputs": []
    }
  ]
}